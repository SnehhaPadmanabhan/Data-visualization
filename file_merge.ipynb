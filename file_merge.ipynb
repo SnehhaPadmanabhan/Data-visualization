{
  "nbformat": 4,
  "nbformat_minor": 0,
  "metadata": {
    "colab": {
      "name": "file_merge.ipynb",
      "provenance": [],
      "collapsed_sections": [],
      "authorship_tag": "ABX9TyNwQTV/XvkwNuYrtnmuKAqk",
      "include_colab_link": true
    },
    "kernelspec": {
      "name": "python3",
      "display_name": "Python 3"
    }
  },
  "cells": [
    {
      "cell_type": "markdown",
      "metadata": {
        "id": "view-in-github",
        "colab_type": "text"
      },
      "source": [
        "<a href=\"https://colab.research.google.com/github/SnehhaPadmanabhan/Data-visualization/blob/master/file_merge.ipynb\" target=\"_parent\"><img src=\"https://colab.research.google.com/assets/colab-badge.svg\" alt=\"Open In Colab\"/></a>"
      ]
    },
    {
      "cell_type": "code",
      "metadata": {
        "id": "kpW2DkOQyK-7",
        "colab_type": "code",
        "colab": {}
      },
      "source": [
        "import pandas as pd\n",
        "cities_xls = pd.read_excel('Cities.xlsx', 'Cities', index_col=None)\n",
        "cities_xls.to_csv('Cities.csv', encoding='utf-8')"
      ],
      "execution_count": 0,
      "outputs": []
    },
    {
      "cell_type": "code",
      "metadata": {
        "id": "QiyaLZBv05Tl",
        "colab_type": "code",
        "outputId": "a6e98dd2-03cc-4774-d168-b781ca97c259",
        "colab": {
          "base_uri": "https://localhost:8080/",
          "height": 68
        }
      },
      "source": [
        "cities = pd.read_csv(\"Cities.csv\").iloc[:, 1:]\n",
        "print(cities.head(2))"
      ],
      "execution_count": 32,
      "outputs": [
        {
          "output_type": "stream",
          "text": [
            "          City       State\n",
            "0     New York    New York\n",
            "1  Los Angeles  California\n"
          ],
          "name": "stdout"
        }
      ]
    },
    {
      "cell_type": "code",
      "metadata": {
        "id": "v95VX7Au1HDe",
        "colab_type": "code",
        "outputId": "e94bbc8c-39b2-4c50-d38a-93f01a403575",
        "colab": {
          "base_uri": "https://localhost:8080/",
          "height": 68
        }
      },
      "source": [
        "customers_xls = pd.read_excel('Customers.xlsx', 'Customers', index_col=None)\n",
        "customers_xls.to_csv('Customers.csv', encoding='utf-8')\n",
        "customers = pd.read_csv(\"Customers.csv\").iloc[:, 1:]\n",
        "print(customers.head(2))"
      ],
      "execution_count": 35,
      "outputs": [
        {
          "output_type": "stream",
          "text": [
            "   CustomerId    OpenDate Gender  Age         City Country Preferred\n",
            "0      991840  2018-01-01      M   33  Los Angeles     USA         N\n",
            "1      991842  2018-01-01      M   38     San Jose     USA         N\n"
          ],
          "name": "stdout"
        }
      ]
    },
    {
      "cell_type": "code",
      "metadata": {
        "id": "RZINun3_aaAi",
        "colab_type": "code",
        "outputId": "7e931a81-7786-4f68-9aac-6740dcf701a3",
        "colab": {
          "base_uri": "https://localhost:8080/",
          "height": 68
        }
      },
      "source": [
        "products_xls = pd.read_excel('Products.xlsx', 'Products', index_col=None)\n",
        "products_xls.to_csv('Products.csv', encoding='utf-8')\n",
        "products = pd.read_csv(\"Products.csv\").iloc[:, 1:]\n",
        "print(products.head(2))"
      ],
      "execution_count": 36,
      "outputs": [
        {
          "output_type": "stream",
          "text": [
            "  Product_Id Product_Sub-Category Product_Category  Price  Profit\n",
            "0   FUR11101        Central Table        Furniture    200    35.0\n",
            "1   FUR11102       Computer Table        Furniture    150    20.0\n"
          ],
          "name": "stdout"
        }
      ]
    },
    {
      "cell_type": "code",
      "metadata": {
        "id": "ySVlwzOJaqRy",
        "colab_type": "code",
        "outputId": "99ae600b-7458-4c39-cd11-359a9585617d",
        "colab": {
          "base_uri": "https://localhost:8080/",
          "height": 68
        }
      },
      "source": [
        "orders_xls = pd.read_excel('Orders.xlsx', 'Orders', index_col=None)\n",
        "orders_xls.to_csv('Orders.csv', encoding='utf-8')\n",
        "orders = pd.read_csv(\"Orders.csv\").iloc[:, 1:]\n",
        "print(orders.head(2))"
      ],
      "execution_count": 0,
      "outputs": [
        {
          "output_type": "stream",
          "text": [
            "     Order Id  CustomerId Purchase_Date Product_Id  Quantity\n",
            "0  OSP0012906      991876    2018-01-02   SPO11102         2\n",
            "1  OSP0012926      991912    2018-01-02   SPO11102         1\n"
          ],
          "name": "stdout"
        }
      ]
    },
    {
      "cell_type": "code",
      "metadata": {
        "id": "FUAnZcNH1fvd",
        "colab_type": "code",
        "outputId": "e98309de-c704-4221-c8c9-0b440a92d5ab",
        "colab": {
          "base_uri": "https://localhost:8080/",
          "height": 142
        }
      },
      "source": [
        "combine1 = pd.merge(customers, cities, how = 'right', on = 'City')\n",
        "combine1.head(3)"
      ],
      "execution_count": 0,
      "outputs": [
        {
          "output_type": "execute_result",
          "data": {
            "text/html": [
              "<div>\n",
              "<style scoped>\n",
              "    .dataframe tbody tr th:only-of-type {\n",
              "        vertical-align: middle;\n",
              "    }\n",
              "\n",
              "    .dataframe tbody tr th {\n",
              "        vertical-align: top;\n",
              "    }\n",
              "\n",
              "    .dataframe thead th {\n",
              "        text-align: right;\n",
              "    }\n",
              "</style>\n",
              "<table border=\"1\" class=\"dataframe\">\n",
              "  <thead>\n",
              "    <tr style=\"text-align: right;\">\n",
              "      <th></th>\n",
              "      <th>CustomerId</th>\n",
              "      <th>OpenDate</th>\n",
              "      <th>Gender</th>\n",
              "      <th>Age</th>\n",
              "      <th>City</th>\n",
              "      <th>Country</th>\n",
              "      <th>Preferred</th>\n",
              "      <th>State</th>\n",
              "    </tr>\n",
              "  </thead>\n",
              "  <tbody>\n",
              "    <tr>\n",
              "      <th>0</th>\n",
              "      <td>991840</td>\n",
              "      <td>2018-01-01</td>\n",
              "      <td>M</td>\n",
              "      <td>33</td>\n",
              "      <td>Los Angeles</td>\n",
              "      <td>USA</td>\n",
              "      <td>N</td>\n",
              "      <td>California</td>\n",
              "    </tr>\n",
              "    <tr>\n",
              "      <th>1</th>\n",
              "      <td>991846</td>\n",
              "      <td>2018-01-01</td>\n",
              "      <td>M</td>\n",
              "      <td>54</td>\n",
              "      <td>Los Angeles</td>\n",
              "      <td>USA</td>\n",
              "      <td>N</td>\n",
              "      <td>California</td>\n",
              "    </tr>\n",
              "    <tr>\n",
              "      <th>2</th>\n",
              "      <td>991860</td>\n",
              "      <td>2018-01-01</td>\n",
              "      <td>F</td>\n",
              "      <td>44</td>\n",
              "      <td>Los Angeles</td>\n",
              "      <td>USA</td>\n",
              "      <td>N</td>\n",
              "      <td>California</td>\n",
              "    </tr>\n",
              "  </tbody>\n",
              "</table>\n",
              "</div>"
            ],
            "text/plain": [
              "   CustomerId    OpenDate Gender  ...  Country Preferred       State\n",
              "0      991840  2018-01-01      M  ...      USA         N  California\n",
              "1      991846  2018-01-01      M  ...      USA         N  California\n",
              "2      991860  2018-01-01      F  ...      USA         N  California\n",
              "\n",
              "[3 rows x 8 columns]"
            ]
          },
          "metadata": {
            "tags": []
          },
          "execution_count": 6
        }
      ]
    },
    {
      "cell_type": "code",
      "metadata": {
        "id": "PcmXgVrC3l_S",
        "colab_type": "code",
        "outputId": "85316cc1-6975-479d-ecf8-419606af054e",
        "colab": {
          "base_uri": "https://localhost:8080/",
          "height": 142
        }
      },
      "source": [
        "combine2 = pd.merge(orders, customers, how = 'right', on = 'CustomerId')\n",
        "combine2.head(3)"
      ],
      "execution_count": 0,
      "outputs": [
        {
          "output_type": "execute_result",
          "data": {
            "text/html": [
              "<div>\n",
              "<style scoped>\n",
              "    .dataframe tbody tr th:only-of-type {\n",
              "        vertical-align: middle;\n",
              "    }\n",
              "\n",
              "    .dataframe tbody tr th {\n",
              "        vertical-align: top;\n",
              "    }\n",
              "\n",
              "    .dataframe thead th {\n",
              "        text-align: right;\n",
              "    }\n",
              "</style>\n",
              "<table border=\"1\" class=\"dataframe\">\n",
              "  <thead>\n",
              "    <tr style=\"text-align: right;\">\n",
              "      <th></th>\n",
              "      <th>Order Id</th>\n",
              "      <th>CustomerId</th>\n",
              "      <th>Purchase_Date</th>\n",
              "      <th>Product_Id</th>\n",
              "      <th>Quantity</th>\n",
              "      <th>OpenDate</th>\n",
              "      <th>Gender</th>\n",
              "      <th>Age</th>\n",
              "      <th>City</th>\n",
              "      <th>Country</th>\n",
              "      <th>Preferred</th>\n",
              "    </tr>\n",
              "  </thead>\n",
              "  <tbody>\n",
              "    <tr>\n",
              "      <th>0</th>\n",
              "      <td>OSP0012906</td>\n",
              "      <td>991876</td>\n",
              "      <td>2018-01-02</td>\n",
              "      <td>SPO11102</td>\n",
              "      <td>2.0</td>\n",
              "      <td>2018-01-01</td>\n",
              "      <td>M</td>\n",
              "      <td>30</td>\n",
              "      <td>Atlanta</td>\n",
              "      <td>USA</td>\n",
              "      <td>N</td>\n",
              "    </tr>\n",
              "    <tr>\n",
              "      <th>1</th>\n",
              "      <td>OSP0012926</td>\n",
              "      <td>991912</td>\n",
              "      <td>2018-01-02</td>\n",
              "      <td>SPO11102</td>\n",
              "      <td>1.0</td>\n",
              "      <td>2018-01-01</td>\n",
              "      <td>F</td>\n",
              "      <td>30</td>\n",
              "      <td>Phoenix</td>\n",
              "      <td>USA</td>\n",
              "      <td>N</td>\n",
              "    </tr>\n",
              "    <tr>\n",
              "      <th>2</th>\n",
              "      <td>OFU0001835</td>\n",
              "      <td>991912</td>\n",
              "      <td>2018-01-24</td>\n",
              "      <td>FUR11103</td>\n",
              "      <td>2.0</td>\n",
              "      <td>2018-01-01</td>\n",
              "      <td>F</td>\n",
              "      <td>30</td>\n",
              "      <td>Phoenix</td>\n",
              "      <td>USA</td>\n",
              "      <td>N</td>\n",
              "    </tr>\n",
              "  </tbody>\n",
              "</table>\n",
              "</div>"
            ],
            "text/plain": [
              "     Order Id  CustomerId Purchase_Date  ...     City  Country Preferred\n",
              "0  OSP0012906      991876    2018-01-02  ...  Atlanta      USA         N\n",
              "1  OSP0012926      991912    2018-01-02  ...  Phoenix      USA         N\n",
              "2  OFU0001835      991912    2018-01-24  ...  Phoenix      USA         N\n",
              "\n",
              "[3 rows x 11 columns]"
            ]
          },
          "metadata": {
            "tags": []
          },
          "execution_count": 7
        }
      ]
    },
    {
      "cell_type": "code",
      "metadata": {
        "id": "b08gr6UqblAx",
        "colab_type": "code",
        "colab": {}
      },
      "source": [
        "combine3 = pd.merge(orders, products, how = 'right', on = 'Product_Id')"
      ],
      "execution_count": 0,
      "outputs": []
    },
    {
      "cell_type": "code",
      "metadata": {
        "id": "qEQA7qDMb2wH",
        "colab_type": "code",
        "outputId": "12b5cef5-9574-4444-835f-bbb9f1408bb9",
        "colab": {
          "base_uri": "https://localhost:8080/",
          "height": 34
        }
      },
      "source": [
        "orders.columns"
      ],
      "execution_count": 0,
      "outputs": [
        {
          "output_type": "execute_result",
          "data": {
            "text/plain": [
              "Index(['Order Id', 'CustomerId', 'Purchase_Date', 'Product_Id', 'Quantity'], dtype='object')"
            ]
          },
          "metadata": {
            "tags": []
          },
          "execution_count": 9
        }
      ]
    },
    {
      "cell_type": "code",
      "metadata": {
        "id": "xJx-MiDCcEfR",
        "colab_type": "code",
        "outputId": "221d26c7-9953-4706-8846-bb0826eae112",
        "colab": {
          "base_uri": "https://localhost:8080/",
          "height": 68
        }
      },
      "source": [
        "# fields in the resulting dataframe\n",
        "combine3.columns"
      ],
      "execution_count": 0,
      "outputs": [
        {
          "output_type": "execute_result",
          "data": {
            "text/plain": [
              "Index(['Order Id', 'CustomerId', 'Purchase_Date', 'Product_Id', 'Quantity',\n",
              "       'Product_Sub-Category', 'Product_Category', 'Price', 'Profit'],\n",
              "      dtype='object')"
            ]
          },
          "metadata": {
            "tags": []
          },
          "execution_count": 10
        }
      ]
    },
    {
      "cell_type": "markdown",
      "metadata": {
        "id": "Expr_s0-cSyi",
        "colab_type": "text"
      },
      "source": [
        "Unit testing :\n",
        "1. Check if total number of records is equal to the number of orders placed"
      ]
    },
    {
      "cell_type": "code",
      "metadata": {
        "id": "6hLGLddIdgpB",
        "colab_type": "code",
        "outputId": "5e3744a1-7507-4baf-fc3d-555c86660453",
        "colab": {
          "base_uri": "https://localhost:8080/",
          "height": 51
        }
      },
      "source": [
        "print(len(combine1.index))\n",
        "print(len(customers.index))\n",
        "# No duplicates produced in 1st merge--> pass"
      ],
      "execution_count": 0,
      "outputs": [
        {
          "output_type": "stream",
          "text": [
            "64538\n",
            "64538\n"
          ],
          "name": "stdout"
        }
      ]
    },
    {
      "cell_type": "code",
      "metadata": {
        "id": "PkLCSkyxd1-S",
        "colab_type": "code",
        "outputId": "b29c8398-3e3a-4378-d7b5-d723a782c1fc",
        "colab": {
          "base_uri": "https://localhost:8080/",
          "height": 51
        }
      },
      "source": [
        "print(len(combine2.index))\n",
        "print(len(orders.index))"
      ],
      "execution_count": 0,
      "outputs": [
        {
          "output_type": "stream",
          "text": [
            "84194\n",
            "67880\n"
          ],
          "name": "stdout"
        }
      ]
    },
    {
      "cell_type": "code",
      "metadata": {
        "id": "kkK9cKSKjKZD",
        "colab_type": "code",
        "outputId": "f11644ae-8a19-4dee-9342-900ae228565a",
        "colab": {
          "base_uri": "https://localhost:8080/",
          "height": 221
        }
      },
      "source": [
        "print(combine2.iloc[82892])"
      ],
      "execution_count": 0,
      "outputs": [
        {
          "output_type": "stream",
          "text": [
            "Order Id                NaN\n",
            "CustomerId          1139011\n",
            "Purchase_Date           NaN\n",
            "Product_Id              NaN\n",
            "Quantity                NaN\n",
            "OpenDate         2020-03-08\n",
            "Gender                    F\n",
            "Age                      58\n",
            "City                 Austin\n",
            "Country                 USA\n",
            "Preferred                 N\n",
            "Name: 82892, dtype: object\n"
          ],
          "name": "stdout"
        }
      ]
    },
    {
      "cell_type": "markdown",
      "metadata": {
        "id": "v4jnjGkLln0D",
        "colab_type": "text"
      },
      "source": [
        "Corrections after unit test"
      ]
    },
    {
      "cell_type": "code",
      "metadata": {
        "id": "8v5GhwwHlrhl",
        "colab_type": "code",
        "outputId": "07b70d01-387a-48e9-ee86-7d5a622cd2e4",
        "colab": {
          "base_uri": "https://localhost:8080/",
          "height": 51
        }
      },
      "source": [
        "c1 = pd.merge(left = customers, right = cities, left_on = 'City', right_on = 'City')\n",
        "print(len(c1.index))\n",
        "print(len(customers.index))"
      ],
      "execution_count": 0,
      "outputs": [
        {
          "output_type": "stream",
          "text": [
            "64538\n",
            "64538\n"
          ],
          "name": "stdout"
        }
      ]
    },
    {
      "cell_type": "code",
      "metadata": {
        "id": "6tUqmWykmo-B",
        "colab_type": "code",
        "outputId": "4d00aed9-4fb2-4e6d-e270-d6667849c973",
        "colab": {
          "base_uri": "https://localhost:8080/",
          "height": 51
        }
      },
      "source": [
        "c2 = pd.merge(left = orders, right = c1, left_on = 'CustomerId', right_on = 'CustomerId')\n",
        "print(len(c2.index))\n",
        "print(len(orders.index))"
      ],
      "execution_count": 0,
      "outputs": [
        {
          "output_type": "stream",
          "text": [
            "67880\n",
            "67880\n"
          ],
          "name": "stdout"
        }
      ]
    },
    {
      "cell_type": "code",
      "metadata": {
        "id": "6LMc6-Yanpwl",
        "colab_type": "code",
        "outputId": "3efa1e86-0ea8-4e50-f982-15c02b5eddf0",
        "colab": {
          "base_uri": "https://localhost:8080/",
          "height": 51
        }
      },
      "source": [
        "c3 = pd.merge(left = c2, right = products, left_on = 'Product_Id', right_on = 'Product_Id')\n",
        "print(len(c3.index))\n",
        "print(len(c2.index))"
      ],
      "execution_count": 0,
      "outputs": [
        {
          "output_type": "stream",
          "text": [
            "67880\n",
            "67880\n"
          ],
          "name": "stdout"
        }
      ]
    },
    {
      "cell_type": "code",
      "metadata": {
        "id": "pbJsZrjvoMAK",
        "colab_type": "code",
        "outputId": "43e1bd96-ceeb-4f0d-e2e6-90bd540e471c",
        "colab": {
          "base_uri": "https://localhost:8080/",
          "height": 34
        }
      },
      "source": [
        "flag = 0\n",
        "for i in range(len(c2.index)):\n",
        "  if c2.index[i]!=c3.index[i]:\n",
        "    flag = 1\n",
        "    break\n",
        "if flag==0:\n",
        "  print(\"No mismatch till end of orders.\")\n",
        "else:\n",
        "  print(\"Mismatch occured\")"
      ],
      "execution_count": 0,
      "outputs": [
        {
          "output_type": "stream",
          "text": [
            "No mismatch till end of orders.\n"
          ],
          "name": "stdout"
        }
      ]
    },
    {
      "cell_type": "code",
      "metadata": {
        "id": "Y-oeykDAyFu4",
        "colab_type": "code",
        "outputId": "837c00e7-f714-41d2-dac3-96149c047e46",
        "colab": {
          "base_uri": "https://localhost:8080/",
          "height": 85
        }
      },
      "source": [
        "c3.columns"
      ],
      "execution_count": 0,
      "outputs": [
        {
          "output_type": "execute_result",
          "data": {
            "text/plain": [
              "Index(['Order Id', 'CustomerId', 'Purchase_Date', 'Product_Id', 'Quantity',\n",
              "       'OpenDate', 'Gender', 'Age', 'City', 'Country', 'Preferred', 'State',\n",
              "       'Product_Sub-Category', 'Product_Category', 'Price', 'Profit'],\n",
              "      dtype='object')"
            ]
          },
          "metadata": {
            "tags": []
          },
          "execution_count": 24
        }
      ]
    },
    {
      "cell_type": "code",
      "metadata": {
        "id": "sfJXQuSDvmyU",
        "colab_type": "code",
        "colab": {}
      },
      "source": [
        "writer = pd.ExcelWriter('MERGE1.xlsx')\n",
        "c3.to_excel(writer, sheet_name = 'MERGE1')\n",
        "writer.save()"
      ],
      "execution_count": 0,
      "outputs": []
    },
    {
      "cell_type": "markdown",
      "metadata": {
        "id": "ErehTDw11Q1r",
        "colab_type": "text"
      },
      "source": [
        "Adding additional information that might be useful for further processing"
      ]
    },
    {
      "cell_type": "code",
      "metadata": {
        "id": "OxAAzhDdwjnc",
        "colab_type": "code",
        "outputId": "0c34ac9a-c5f4-4bf7-e53b-753e813b54c0",
        "colab": {
          "base_uri": "https://localhost:8080/",
          "height": 85
        }
      },
      "source": [
        "import pandas as pd\n",
        "test_xls = pd.read_excel('MERGE1.xlsx', 'MERGE1', index_col=None)\n",
        "test_xls.to_csv('MERGE1.csv', encoding='utf-8')\n",
        "test = pd.read_csv(\"MERGE1.csv\").iloc[:, 1:]\n",
        "test.columns"
      ],
      "execution_count": 1,
      "outputs": [
        {
          "output_type": "execute_result",
          "data": {
            "text/plain": [
              "Index(['Unnamed: 0.1', 'Order Id', 'CustomerId', 'Purchase_Date', 'Product_Id',\n",
              "       'Quantity', 'OpenDate', 'Gender', 'Age', 'City', 'Country', 'Preferred',\n",
              "       'State', 'Product_Sub-Category', 'Product_Category', 'Price', 'Profit'],\n",
              "      dtype='object')"
            ]
          },
          "metadata": {
            "tags": []
          },
          "execution_count": 1
        }
      ]
    },
    {
      "cell_type": "code",
      "metadata": {
        "id": "kYQ7NnDyzfd_",
        "colab_type": "code",
        "outputId": "2428893e-23e1-447b-e2d4-556a2fa20d8c",
        "colab": {
          "base_uri": "https://localhost:8080/",
          "height": 34
        }
      },
      "source": [
        "len(test.index)"
      ],
      "execution_count": 2,
      "outputs": [
        {
          "output_type": "execute_result",
          "data": {
            "text/plain": [
              "67880"
            ]
          },
          "metadata": {
            "tags": []
          },
          "execution_count": 2
        }
      ]
    },
    {
      "cell_type": "code",
      "metadata": {
        "id": "1i3nNt4r1jBg",
        "colab_type": "code",
        "colab": {}
      },
      "source": [
        "test.rename(columns = {'Age range':'Age_range'}, inplace = True)"
      ],
      "execution_count": 0,
      "outputs": []
    },
    {
      "cell_type": "code",
      "metadata": {
        "id": "ILFjHxMbznAv",
        "colab_type": "code",
        "colab": {}
      },
      "source": [
        "test['Age_range'] = ''"
      ],
      "execution_count": 0,
      "outputs": []
    },
    {
      "cell_type": "code",
      "metadata": {
        "id": "98JnOCo81yoL",
        "colab_type": "code",
        "colab": {}
      },
      "source": [
        "test.drop(columns = 'Unnamed: 0.1', axis = 1, inplace = True)"
      ],
      "execution_count": 0,
      "outputs": []
    },
    {
      "cell_type": "code",
      "metadata": {
        "id": "gqmCfD_t2eHY",
        "colab_type": "code",
        "outputId": "d017afad-2e33-4c87-be61-04c13ab9ff4c",
        "colab": {
          "base_uri": "https://localhost:8080/",
          "height": 102
        }
      },
      "source": [
        "test.columns"
      ],
      "execution_count": 6,
      "outputs": [
        {
          "output_type": "execute_result",
          "data": {
            "text/plain": [
              "Index(['Order Id', 'CustomerId', 'Purchase_Date', 'Product_Id', 'Quantity',\n",
              "       'OpenDate', 'Gender', 'Age', 'City', 'Country', 'Preferred', 'State',\n",
              "       'Product_Sub-Category', 'Product_Category', 'Price', 'Profit',\n",
              "       'Age_range'],\n",
              "      dtype='object')"
            ]
          },
          "metadata": {
            "tags": []
          },
          "execution_count": 6
        }
      ]
    },
    {
      "cell_type": "code",
      "metadata": {
        "id": "ORlWEWp6rKer",
        "colab_type": "code",
        "colab": {
          "base_uri": "https://localhost:8080/",
          "height": 102
        },
        "outputId": "2f990407-7930-4cae-afc9-8f71fee0de06"
      },
      "source": [
        "test.rename(columns = {'Order Id': 'OrderId'}, inplace = True)\n",
        "test.columns"
      ],
      "execution_count": 7,
      "outputs": [
        {
          "output_type": "execute_result",
          "data": {
            "text/plain": [
              "Index(['OrderId', 'CustomerId', 'Purchase_Date', 'Product_Id', 'Quantity',\n",
              "       'OpenDate', 'Gender', 'Age', 'City', 'Country', 'Preferred', 'State',\n",
              "       'Product_Sub-Category', 'Product_Category', 'Price', 'Profit',\n",
              "       'Age_range'],\n",
              "      dtype='object')"
            ]
          },
          "metadata": {
            "tags": []
          },
          "execution_count": 7
        }
      ]
    },
    {
      "cell_type": "code",
      "metadata": {
        "id": "20TfZEV1318l",
        "colab_type": "code",
        "colab": {
          "base_uri": "https://localhost:8080/",
          "height": 566
        },
        "outputId": "c6cfc613-70c8-41c8-ec11-c07129a20ebb"
      },
      "source": [
        "for i in range(len(test.index)):\n",
        "  age = test.iloc[i]['Age']\n",
        "  id = test.iloc[i]['OrderId']\n",
        "  if age>60:\n",
        "    test.loc[test.OrderId == id, 'Age_range'] = '>60'\n",
        "  elif age>=50:\n",
        "    test.loc[test.OrderId == id, 'Age_range'] = '50-60'\n",
        "  elif age>=40:\n",
        "    test.loc[test.OrderId == id, 'Age_range'] = '40-50'\n",
        "  elif age>=30:\n",
        "    test.loc[test.OrderId == id, 'Age_range'] = '30-40'\n",
        "  elif age>=20:\n",
        "    test.loc[test.OrderId == id, 'Age_range'] = '20-30'\n",
        "  else:\n",
        "    test.loc[test.OrderId == id, 'Age_range'] = '<20'\n",
        "\n",
        "test.head(10)"
      ],
      "execution_count": 13,
      "outputs": [
        {
          "output_type": "execute_result",
          "data": {
            "text/html": [
              "<div>\n",
              "<style scoped>\n",
              "    .dataframe tbody tr th:only-of-type {\n",
              "        vertical-align: middle;\n",
              "    }\n",
              "\n",
              "    .dataframe tbody tr th {\n",
              "        vertical-align: top;\n",
              "    }\n",
              "\n",
              "    .dataframe thead th {\n",
              "        text-align: right;\n",
              "    }\n",
              "</style>\n",
              "<table border=\"1\" class=\"dataframe\">\n",
              "  <thead>\n",
              "    <tr style=\"text-align: right;\">\n",
              "      <th></th>\n",
              "      <th>OrderId</th>\n",
              "      <th>CustomerId</th>\n",
              "      <th>Purchase_Date</th>\n",
              "      <th>Product_Id</th>\n",
              "      <th>Quantity</th>\n",
              "      <th>OpenDate</th>\n",
              "      <th>Gender</th>\n",
              "      <th>Age</th>\n",
              "      <th>City</th>\n",
              "      <th>Country</th>\n",
              "      <th>Preferred</th>\n",
              "      <th>State</th>\n",
              "      <th>Product_Sub-Category</th>\n",
              "      <th>Product_Category</th>\n",
              "      <th>Price</th>\n",
              "      <th>Profit</th>\n",
              "      <th>Age_range</th>\n",
              "    </tr>\n",
              "  </thead>\n",
              "  <tbody>\n",
              "    <tr>\n",
              "      <th>0</th>\n",
              "      <td>OSP0012906</td>\n",
              "      <td>991876</td>\n",
              "      <td>2018-01-02</td>\n",
              "      <td>SPO11102</td>\n",
              "      <td>2</td>\n",
              "      <td>2018-01-01</td>\n",
              "      <td>M</td>\n",
              "      <td>30</td>\n",
              "      <td>Atlanta</td>\n",
              "      <td>USA</td>\n",
              "      <td>N</td>\n",
              "      <td>Georgia</td>\n",
              "      <td>Balls</td>\n",
              "      <td>Sports</td>\n",
              "      <td>10</td>\n",
              "      <td>3.75</td>\n",
              "      <td>30-40</td>\n",
              "    </tr>\n",
              "    <tr>\n",
              "      <th>1</th>\n",
              "      <td>OSP0012926</td>\n",
              "      <td>991912</td>\n",
              "      <td>2018-01-02</td>\n",
              "      <td>SPO11102</td>\n",
              "      <td>1</td>\n",
              "      <td>2018-01-01</td>\n",
              "      <td>F</td>\n",
              "      <td>30</td>\n",
              "      <td>Phoenix</td>\n",
              "      <td>USA</td>\n",
              "      <td>N</td>\n",
              "      <td>Arizona</td>\n",
              "      <td>Balls</td>\n",
              "      <td>Sports</td>\n",
              "      <td>10</td>\n",
              "      <td>3.75</td>\n",
              "      <td>30-40</td>\n",
              "    </tr>\n",
              "    <tr>\n",
              "      <th>2</th>\n",
              "      <td>OSP0013011</td>\n",
              "      <td>992109</td>\n",
              "      <td>2018-01-09</td>\n",
              "      <td>SPO11102</td>\n",
              "      <td>1</td>\n",
              "      <td>2018-01-03</td>\n",
              "      <td>F</td>\n",
              "      <td>20</td>\n",
              "      <td>Chicago</td>\n",
              "      <td>USA</td>\n",
              "      <td>N</td>\n",
              "      <td>Illinois</td>\n",
              "      <td>Balls</td>\n",
              "      <td>Sports</td>\n",
              "      <td>10</td>\n",
              "      <td>3.75</td>\n",
              "      <td>20-30</td>\n",
              "    </tr>\n",
              "    <tr>\n",
              "      <th>3</th>\n",
              "      <td>OSP0013019</td>\n",
              "      <td>992135</td>\n",
              "      <td>2018-01-05</td>\n",
              "      <td>SPO11102</td>\n",
              "      <td>4</td>\n",
              "      <td>2018-01-03</td>\n",
              "      <td>M</td>\n",
              "      <td>20</td>\n",
              "      <td>Chicago</td>\n",
              "      <td>USA</td>\n",
              "      <td>N</td>\n",
              "      <td>Illinois</td>\n",
              "      <td>Balls</td>\n",
              "      <td>Sports</td>\n",
              "      <td>10</td>\n",
              "      <td>3.75</td>\n",
              "      <td>20-30</td>\n",
              "    </tr>\n",
              "    <tr>\n",
              "      <th>4</th>\n",
              "      <td>OSP0013058</td>\n",
              "      <td>992238</td>\n",
              "      <td>2018-01-05</td>\n",
              "      <td>SPO11102</td>\n",
              "      <td>4</td>\n",
              "      <td>2018-01-04</td>\n",
              "      <td>F</td>\n",
              "      <td>22</td>\n",
              "      <td>Washington</td>\n",
              "      <td>USA</td>\n",
              "      <td>N</td>\n",
              "      <td>Washington</td>\n",
              "      <td>Balls</td>\n",
              "      <td>Sports</td>\n",
              "      <td>10</td>\n",
              "      <td>3.75</td>\n",
              "      <td>20-30</td>\n",
              "    </tr>\n",
              "    <tr>\n",
              "      <th>5</th>\n",
              "      <td>OSP0012940</td>\n",
              "      <td>991932</td>\n",
              "      <td>2018-01-06</td>\n",
              "      <td>SPO11102</td>\n",
              "      <td>4</td>\n",
              "      <td>2018-01-02</td>\n",
              "      <td>U</td>\n",
              "      <td>31</td>\n",
              "      <td>San Diego</td>\n",
              "      <td>USA</td>\n",
              "      <td>N</td>\n",
              "      <td>California</td>\n",
              "      <td>Balls</td>\n",
              "      <td>Sports</td>\n",
              "      <td>10</td>\n",
              "      <td>3.75</td>\n",
              "      <td>30-40</td>\n",
              "    </tr>\n",
              "    <tr>\n",
              "      <th>6</th>\n",
              "      <td>OSP0012960</td>\n",
              "      <td>991981</td>\n",
              "      <td>2018-01-06</td>\n",
              "      <td>SPO11102</td>\n",
              "      <td>1</td>\n",
              "      <td>2018-01-02</td>\n",
              "      <td>U</td>\n",
              "      <td>28</td>\n",
              "      <td>Atlanta</td>\n",
              "      <td>USA</td>\n",
              "      <td>N</td>\n",
              "      <td>Georgia</td>\n",
              "      <td>Balls</td>\n",
              "      <td>Sports</td>\n",
              "      <td>10</td>\n",
              "      <td>3.75</td>\n",
              "      <td>20-30</td>\n",
              "    </tr>\n",
              "    <tr>\n",
              "      <th>7</th>\n",
              "      <td>OSP0013123</td>\n",
              "      <td>992395</td>\n",
              "      <td>2018-01-06</td>\n",
              "      <td>SPO11102</td>\n",
              "      <td>4</td>\n",
              "      <td>2018-01-05</td>\n",
              "      <td>M</td>\n",
              "      <td>41</td>\n",
              "      <td>Dallas</td>\n",
              "      <td>USA</td>\n",
              "      <td>N</td>\n",
              "      <td>Texas</td>\n",
              "      <td>Balls</td>\n",
              "      <td>Sports</td>\n",
              "      <td>10</td>\n",
              "      <td>3.75</td>\n",
              "      <td>40-50</td>\n",
              "    </tr>\n",
              "    <tr>\n",
              "      <th>8</th>\n",
              "      <td>OSP0013130</td>\n",
              "      <td>992407</td>\n",
              "      <td>2018-01-06</td>\n",
              "      <td>SPO11102</td>\n",
              "      <td>2</td>\n",
              "      <td>2018-01-05</td>\n",
              "      <td>M</td>\n",
              "      <td>27</td>\n",
              "      <td>San Diego</td>\n",
              "      <td>USA</td>\n",
              "      <td>N</td>\n",
              "      <td>California</td>\n",
              "      <td>Balls</td>\n",
              "      <td>Sports</td>\n",
              "      <td>10</td>\n",
              "      <td>3.75</td>\n",
              "      <td>20-30</td>\n",
              "    </tr>\n",
              "    <tr>\n",
              "      <th>9</th>\n",
              "      <td>OSP0013131</td>\n",
              "      <td>992408</td>\n",
              "      <td>2018-01-06</td>\n",
              "      <td>SPO11102</td>\n",
              "      <td>1</td>\n",
              "      <td>2018-01-05</td>\n",
              "      <td>M</td>\n",
              "      <td>33</td>\n",
              "      <td>Dallas</td>\n",
              "      <td>USA</td>\n",
              "      <td>N</td>\n",
              "      <td>Texas</td>\n",
              "      <td>Balls</td>\n",
              "      <td>Sports</td>\n",
              "      <td>10</td>\n",
              "      <td>3.75</td>\n",
              "      <td>30-40</td>\n",
              "    </tr>\n",
              "  </tbody>\n",
              "</table>\n",
              "</div>"
            ],
            "text/plain": [
              "      OrderId  CustomerId Purchase_Date  ... Price  Profit Age_range\n",
              "0  OSP0012906      991876    2018-01-02  ...    10    3.75     30-40\n",
              "1  OSP0012926      991912    2018-01-02  ...    10    3.75     30-40\n",
              "2  OSP0013011      992109    2018-01-09  ...    10    3.75     20-30\n",
              "3  OSP0013019      992135    2018-01-05  ...    10    3.75     20-30\n",
              "4  OSP0013058      992238    2018-01-05  ...    10    3.75     20-30\n",
              "5  OSP0012940      991932    2018-01-06  ...    10    3.75     30-40\n",
              "6  OSP0012960      991981    2018-01-06  ...    10    3.75     20-30\n",
              "7  OSP0013123      992395    2018-01-06  ...    10    3.75     40-50\n",
              "8  OSP0013130      992407    2018-01-06  ...    10    3.75     20-30\n",
              "9  OSP0013131      992408    2018-01-06  ...    10    3.75     30-40\n",
              "\n",
              "[10 rows x 17 columns]"
            ]
          },
          "metadata": {
            "tags": []
          },
          "execution_count": 13
        }
      ]
    },
    {
      "cell_type": "code",
      "metadata": {
        "id": "22aTp46xuuKH",
        "colab_type": "code",
        "colab": {
          "base_uri": "https://localhost:8080/",
          "height": 323
        },
        "outputId": "9c222d76-d09e-4bcc-d86c-8fa1eabb61f5"
      },
      "source": [
        "test.dtypes"
      ],
      "execution_count": 14,
      "outputs": [
        {
          "output_type": "execute_result",
          "data": {
            "text/plain": [
              "OrderId                  object\n",
              "CustomerId                int64\n",
              "Purchase_Date            object\n",
              "Product_Id               object\n",
              "Quantity                  int64\n",
              "OpenDate                 object\n",
              "Gender                   object\n",
              "Age                       int64\n",
              "City                     object\n",
              "Country                  object\n",
              "Preferred                object\n",
              "State                    object\n",
              "Product_Sub-Category     object\n",
              "Product_Category         object\n",
              "Price                     int64\n",
              "Profit                  float64\n",
              "Age_range                object\n",
              "dtype: object"
            ]
          },
          "metadata": {
            "tags": []
          },
          "execution_count": 14
        }
      ]
    },
    {
      "cell_type": "code",
      "metadata": {
        "id": "lK1HMWbOwufB",
        "colab_type": "code",
        "colab": {
          "base_uri": "https://localhost:8080/",
          "height": 34
        },
        "outputId": "36c80851-7f7a-4c36-def4-9f907525f63f"
      },
      "source": [
        "len(test.index)"
      ],
      "execution_count": 15,
      "outputs": [
        {
          "output_type": "execute_result",
          "data": {
            "text/plain": [
              "67880"
            ]
          },
          "metadata": {
            "tags": []
          },
          "execution_count": 15
        }
      ]
    },
    {
      "cell_type": "code",
      "metadata": {
        "id": "8_reWv_mxTmW",
        "colab_type": "code",
        "colab": {
          "base_uri": "https://localhost:8080/",
          "height": 323
        },
        "outputId": "bea3eb04-7e89-44e0-b7e2-458f34b8d8d8"
      },
      "source": [
        "test.Purchase_Date = pd.to_datetime(test.Purchase_Date, format = '%Y-%m-%d')\n",
        "test.dtypes"
      ],
      "execution_count": 20,
      "outputs": [
        {
          "output_type": "execute_result",
          "data": {
            "text/plain": [
              "OrderId                         object\n",
              "CustomerId                       int64\n",
              "Purchase_Date           datetime64[ns]\n",
              "Product_Id                      object\n",
              "Quantity                         int64\n",
              "OpenDate                        object\n",
              "Gender                          object\n",
              "Age                              int64\n",
              "City                            object\n",
              "Country                         object\n",
              "Preferred                       object\n",
              "State                           object\n",
              "Product_Sub-Category            object\n",
              "Product_Category                object\n",
              "Price                            int64\n",
              "Profit                         float64\n",
              "Age_range                       object\n",
              "dtype: object"
            ]
          },
          "metadata": {
            "tags": []
          },
          "execution_count": 20
        }
      ]
    },
    {
      "cell_type": "code",
      "metadata": {
        "id": "hjtGtftY01oG",
        "colab_type": "code",
        "colab": {
          "base_uri": "https://localhost:8080/",
          "height": 230
        },
        "outputId": "f45b8d5c-6e3c-4645-cfe4-32f61338c9c2"
      },
      "source": [
        "test.head(3)"
      ],
      "execution_count": 21,
      "outputs": [
        {
          "output_type": "execute_result",
          "data": {
            "text/html": [
              "<div>\n",
              "<style scoped>\n",
              "    .dataframe tbody tr th:only-of-type {\n",
              "        vertical-align: middle;\n",
              "    }\n",
              "\n",
              "    .dataframe tbody tr th {\n",
              "        vertical-align: top;\n",
              "    }\n",
              "\n",
              "    .dataframe thead th {\n",
              "        text-align: right;\n",
              "    }\n",
              "</style>\n",
              "<table border=\"1\" class=\"dataframe\">\n",
              "  <thead>\n",
              "    <tr style=\"text-align: right;\">\n",
              "      <th></th>\n",
              "      <th>OrderId</th>\n",
              "      <th>CustomerId</th>\n",
              "      <th>Purchase_Date</th>\n",
              "      <th>Product_Id</th>\n",
              "      <th>Quantity</th>\n",
              "      <th>OpenDate</th>\n",
              "      <th>Gender</th>\n",
              "      <th>Age</th>\n",
              "      <th>City</th>\n",
              "      <th>Country</th>\n",
              "      <th>Preferred</th>\n",
              "      <th>State</th>\n",
              "      <th>Product_Sub-Category</th>\n",
              "      <th>Product_Category</th>\n",
              "      <th>Price</th>\n",
              "      <th>Profit</th>\n",
              "      <th>Age_range</th>\n",
              "    </tr>\n",
              "  </thead>\n",
              "  <tbody>\n",
              "    <tr>\n",
              "      <th>0</th>\n",
              "      <td>OSP0012906</td>\n",
              "      <td>991876</td>\n",
              "      <td>2018-01-02</td>\n",
              "      <td>SPO11102</td>\n",
              "      <td>2</td>\n",
              "      <td>2018-01-01</td>\n",
              "      <td>M</td>\n",
              "      <td>30</td>\n",
              "      <td>Atlanta</td>\n",
              "      <td>USA</td>\n",
              "      <td>N</td>\n",
              "      <td>Georgia</td>\n",
              "      <td>Balls</td>\n",
              "      <td>Sports</td>\n",
              "      <td>10</td>\n",
              "      <td>3.75</td>\n",
              "      <td>30-40</td>\n",
              "    </tr>\n",
              "    <tr>\n",
              "      <th>1</th>\n",
              "      <td>OSP0012926</td>\n",
              "      <td>991912</td>\n",
              "      <td>2018-01-02</td>\n",
              "      <td>SPO11102</td>\n",
              "      <td>1</td>\n",
              "      <td>2018-01-01</td>\n",
              "      <td>F</td>\n",
              "      <td>30</td>\n",
              "      <td>Phoenix</td>\n",
              "      <td>USA</td>\n",
              "      <td>N</td>\n",
              "      <td>Arizona</td>\n",
              "      <td>Balls</td>\n",
              "      <td>Sports</td>\n",
              "      <td>10</td>\n",
              "      <td>3.75</td>\n",
              "      <td>30-40</td>\n",
              "    </tr>\n",
              "    <tr>\n",
              "      <th>2</th>\n",
              "      <td>OSP0013011</td>\n",
              "      <td>992109</td>\n",
              "      <td>2018-01-09</td>\n",
              "      <td>SPO11102</td>\n",
              "      <td>1</td>\n",
              "      <td>2018-01-03</td>\n",
              "      <td>F</td>\n",
              "      <td>20</td>\n",
              "      <td>Chicago</td>\n",
              "      <td>USA</td>\n",
              "      <td>N</td>\n",
              "      <td>Illinois</td>\n",
              "      <td>Balls</td>\n",
              "      <td>Sports</td>\n",
              "      <td>10</td>\n",
              "      <td>3.75</td>\n",
              "      <td>20-30</td>\n",
              "    </tr>\n",
              "  </tbody>\n",
              "</table>\n",
              "</div>"
            ],
            "text/plain": [
              "      OrderId  CustomerId Purchase_Date  ... Price  Profit Age_range\n",
              "0  OSP0012906      991876    2018-01-02  ...    10    3.75     30-40\n",
              "1  OSP0012926      991912    2018-01-02  ...    10    3.75     30-40\n",
              "2  OSP0013011      992109    2018-01-09  ...    10    3.75     20-30\n",
              "\n",
              "[3 rows x 17 columns]"
            ]
          },
          "metadata": {
            "tags": []
          },
          "execution_count": 21
        }
      ]
    },
    {
      "cell_type": "code",
      "metadata": {
        "id": "n6hFb8lTyJT9",
        "colab_type": "code",
        "colab": {}
      },
      "source": [
        "month = ['','January', 'February', 'March', 'April', 'May', 'June', 'July', 'August', 'September', 'October', 'November', 'December']\n",
        "test['Month']  = ''\n",
        "for i in range(len(test.index)):\n",
        "  date = test.iloc[i]['Purchase_Date']\n",
        "  m = date.month\n",
        "  id = test.iloc[i]['OrderId']\n",
        "  test.loc[test.OrderId==id, 'Month'] = month[m]"
      ],
      "execution_count": 0,
      "outputs": []
    },
    {
      "cell_type": "code",
      "metadata": {
        "id": "lPutNFkl2dSH",
        "colab_type": "code",
        "colab": {
          "base_uri": "https://localhost:8080/",
          "height": 326
        },
        "outputId": "569ce2c9-c037-4a70-ed6f-b21e1bd13a94"
      },
      "source": [
        "test.rename(columns = {'Month':'Month_of_purchase'}, inplace = True)\n",
        "test.head(5)"
      ],
      "execution_count": 24,
      "outputs": [
        {
          "output_type": "execute_result",
          "data": {
            "text/html": [
              "<div>\n",
              "<style scoped>\n",
              "    .dataframe tbody tr th:only-of-type {\n",
              "        vertical-align: middle;\n",
              "    }\n",
              "\n",
              "    .dataframe tbody tr th {\n",
              "        vertical-align: top;\n",
              "    }\n",
              "\n",
              "    .dataframe thead th {\n",
              "        text-align: right;\n",
              "    }\n",
              "</style>\n",
              "<table border=\"1\" class=\"dataframe\">\n",
              "  <thead>\n",
              "    <tr style=\"text-align: right;\">\n",
              "      <th></th>\n",
              "      <th>OrderId</th>\n",
              "      <th>CustomerId</th>\n",
              "      <th>Purchase_Date</th>\n",
              "      <th>Product_Id</th>\n",
              "      <th>Quantity</th>\n",
              "      <th>OpenDate</th>\n",
              "      <th>Gender</th>\n",
              "      <th>Age</th>\n",
              "      <th>City</th>\n",
              "      <th>Country</th>\n",
              "      <th>Preferred</th>\n",
              "      <th>State</th>\n",
              "      <th>Product_Sub-Category</th>\n",
              "      <th>Product_Category</th>\n",
              "      <th>Price</th>\n",
              "      <th>Profit</th>\n",
              "      <th>Age_range</th>\n",
              "      <th>Month_of_purchase</th>\n",
              "    </tr>\n",
              "  </thead>\n",
              "  <tbody>\n",
              "    <tr>\n",
              "      <th>0</th>\n",
              "      <td>OSP0012906</td>\n",
              "      <td>991876</td>\n",
              "      <td>2018-01-02</td>\n",
              "      <td>SPO11102</td>\n",
              "      <td>2</td>\n",
              "      <td>2018-01-01</td>\n",
              "      <td>M</td>\n",
              "      <td>30</td>\n",
              "      <td>Atlanta</td>\n",
              "      <td>USA</td>\n",
              "      <td>N</td>\n",
              "      <td>Georgia</td>\n",
              "      <td>Balls</td>\n",
              "      <td>Sports</td>\n",
              "      <td>10</td>\n",
              "      <td>3.75</td>\n",
              "      <td>30-40</td>\n",
              "      <td>January</td>\n",
              "    </tr>\n",
              "    <tr>\n",
              "      <th>1</th>\n",
              "      <td>OSP0012926</td>\n",
              "      <td>991912</td>\n",
              "      <td>2018-01-02</td>\n",
              "      <td>SPO11102</td>\n",
              "      <td>1</td>\n",
              "      <td>2018-01-01</td>\n",
              "      <td>F</td>\n",
              "      <td>30</td>\n",
              "      <td>Phoenix</td>\n",
              "      <td>USA</td>\n",
              "      <td>N</td>\n",
              "      <td>Arizona</td>\n",
              "      <td>Balls</td>\n",
              "      <td>Sports</td>\n",
              "      <td>10</td>\n",
              "      <td>3.75</td>\n",
              "      <td>30-40</td>\n",
              "      <td>January</td>\n",
              "    </tr>\n",
              "    <tr>\n",
              "      <th>2</th>\n",
              "      <td>OSP0013011</td>\n",
              "      <td>992109</td>\n",
              "      <td>2018-01-09</td>\n",
              "      <td>SPO11102</td>\n",
              "      <td>1</td>\n",
              "      <td>2018-01-03</td>\n",
              "      <td>F</td>\n",
              "      <td>20</td>\n",
              "      <td>Chicago</td>\n",
              "      <td>USA</td>\n",
              "      <td>N</td>\n",
              "      <td>Illinois</td>\n",
              "      <td>Balls</td>\n",
              "      <td>Sports</td>\n",
              "      <td>10</td>\n",
              "      <td>3.75</td>\n",
              "      <td>20-30</td>\n",
              "      <td>January</td>\n",
              "    </tr>\n",
              "    <tr>\n",
              "      <th>3</th>\n",
              "      <td>OSP0013019</td>\n",
              "      <td>992135</td>\n",
              "      <td>2018-01-05</td>\n",
              "      <td>SPO11102</td>\n",
              "      <td>4</td>\n",
              "      <td>2018-01-03</td>\n",
              "      <td>M</td>\n",
              "      <td>20</td>\n",
              "      <td>Chicago</td>\n",
              "      <td>USA</td>\n",
              "      <td>N</td>\n",
              "      <td>Illinois</td>\n",
              "      <td>Balls</td>\n",
              "      <td>Sports</td>\n",
              "      <td>10</td>\n",
              "      <td>3.75</td>\n",
              "      <td>20-30</td>\n",
              "      <td>January</td>\n",
              "    </tr>\n",
              "    <tr>\n",
              "      <th>4</th>\n",
              "      <td>OSP0013058</td>\n",
              "      <td>992238</td>\n",
              "      <td>2018-01-05</td>\n",
              "      <td>SPO11102</td>\n",
              "      <td>4</td>\n",
              "      <td>2018-01-04</td>\n",
              "      <td>F</td>\n",
              "      <td>22</td>\n",
              "      <td>Washington</td>\n",
              "      <td>USA</td>\n",
              "      <td>N</td>\n",
              "      <td>Washington</td>\n",
              "      <td>Balls</td>\n",
              "      <td>Sports</td>\n",
              "      <td>10</td>\n",
              "      <td>3.75</td>\n",
              "      <td>20-30</td>\n",
              "      <td>January</td>\n",
              "    </tr>\n",
              "  </tbody>\n",
              "</table>\n",
              "</div>"
            ],
            "text/plain": [
              "      OrderId  CustomerId Purchase_Date  ... Profit  Age_range Month_of_purchase\n",
              "0  OSP0012906      991876    2018-01-02  ...   3.75      30-40           January\n",
              "1  OSP0012926      991912    2018-01-02  ...   3.75      30-40           January\n",
              "2  OSP0013011      992109    2018-01-09  ...   3.75      20-30           January\n",
              "3  OSP0013019      992135    2018-01-05  ...   3.75      20-30           January\n",
              "4  OSP0013058      992238    2018-01-05  ...   3.75      20-30           January\n",
              "\n",
              "[5 rows x 18 columns]"
            ]
          },
          "metadata": {
            "tags": []
          },
          "execution_count": 24
        }
      ]
    },
    {
      "cell_type": "code",
      "metadata": {
        "id": "HnqMWVqZ56C_",
        "colab_type": "code",
        "colab": {}
      },
      "source": [
        "writer = pd.ExcelWriter('final.xlsx')\n",
        "test.to_excel(writer, sheet_name = 'final')\n",
        "writer.save()"
      ],
      "execution_count": 0,
      "outputs": []
    },
    {
      "cell_type": "code",
      "metadata": {
        "id": "MUaenhef8b4g",
        "colab_type": "code",
        "colab": {
          "base_uri": "https://localhost:8080/",
          "height": 34
        },
        "outputId": "a8ca4214-7a15-41bb-b9e7-a57f82e3932f"
      },
      "source": [
        "len(test.index)"
      ],
      "execution_count": 26,
      "outputs": [
        {
          "output_type": "execute_result",
          "data": {
            "text/plain": [
              "67880"
            ]
          },
          "metadata": {
            "tags": []
          },
          "execution_count": 26
        }
      ]
    },
    {
      "cell_type": "markdown",
      "metadata": {
        "id": "6f6KFDHgg0pA",
        "colab_type": "text"
      },
      "source": [
        "Other unit tests"
      ]
    },
    {
      "cell_type": "code",
      "metadata": {
        "id": "uUt2MsfCFkfl",
        "colab_type": "code",
        "colab": {
          "base_uri": "https://localhost:8080/",
          "height": 340
        },
        "outputId": "cc53a2b8-1419-4c4d-d036-112c1848c729"
      },
      "source": [
        "test.dtypes"
      ],
      "execution_count": 48,
      "outputs": [
        {
          "output_type": "execute_result",
          "data": {
            "text/plain": [
              "OrderId                         object\n",
              "CustomerId                       int64\n",
              "Purchase_Date           datetime64[ns]\n",
              "Product_Id                      object\n",
              "Quantity                         int64\n",
              "OpenDate                        object\n",
              "Gender                          object\n",
              "Age                              int64\n",
              "City                            object\n",
              "Country                         object\n",
              "Preferred                       object\n",
              "State                           object\n",
              "Product_Sub-Category            object\n",
              "Product_Category                object\n",
              "Price                            int64\n",
              "Profit                         float64\n",
              "Age_range                       object\n",
              "Month_of_purchase               object\n",
              "dtype: object"
            ]
          },
          "metadata": {
            "tags": []
          },
          "execution_count": 48
        }
      ]
    },
    {
      "cell_type": "code",
      "metadata": {
        "id": "6ICEDYFtFvI5",
        "colab_type": "code",
        "colab": {
          "base_uri": "https://localhost:8080/",
          "height": 153
        },
        "outputId": "200314e7-14d2-4d7b-c101-e5ca9e65304d"
      },
      "source": [
        "customers.dtypes"
      ],
      "execution_count": 49,
      "outputs": [
        {
          "output_type": "execute_result",
          "data": {
            "text/plain": [
              "CustomerId     int64\n",
              "OpenDate      object\n",
              "Gender        object\n",
              "Age            int64\n",
              "City          object\n",
              "Country       object\n",
              "Preferred     object\n",
              "dtype: object"
            ]
          },
          "metadata": {
            "tags": []
          },
          "execution_count": 49
        }
      ]
    },
    {
      "cell_type": "code",
      "metadata": {
        "id": "tS2K594Ug24O",
        "colab_type": "code",
        "colab": {
          "base_uri": "https://localhost:8080/",
          "height": 221
        },
        "outputId": "f683294f-f7cf-4fbf-8f89-333e1b86268e"
      },
      "source": [
        "# Correctness of customer details in final file\n",
        "import numpy as np\n",
        "test_ids = ['OSP0012977', 'OST0006790', 'OST0005544', 'OFU0000249', 'OSP0029919', 'OKI0000122']\n",
        "for i in test_ids:\n",
        "  print('Testing on product id '+i)\n",
        "  data1 = test.loc[test.OrderId==i]\n",
        "  cust_id = data1.CustomerId\n",
        "  data2 = customers.loc[customers.CustomerId==cust_id.iloc[0]]\n",
        "  assert(data1.Age.iloc[0] == data2.Age.iloc[0])\n",
        "  assert(data1.OpenDate.iloc[0] == data2.OpenDate.iloc[0])\n",
        "  assert(data1.Gender.iloc[0] == data2.Gender.iloc[0])\n",
        "  assert(data1.City.iloc[0] == data2.City.iloc[0])\n",
        "  assert(data1.Country.iloc[0] == data2.Country.iloc[0])\n",
        "  assert(data1.Preferred.iloc[0] == data2.Preferred.iloc[0])\n",
        "  print('Passed')\n",
        "  \n",
        "  "
      ],
      "execution_count": 57,
      "outputs": [
        {
          "output_type": "stream",
          "text": [
            "Testing on product id OSP0012977\n",
            "Passed\n",
            "Testing on product id OST0006790\n",
            "Passed\n",
            "Testing on product id OST0005544\n",
            "Passed\n",
            "Testing on product id OFU0000249\n",
            "Passed\n",
            "Testing on product id OSP0029919\n",
            "Passed\n",
            "Testing on product id OKI0000122\n",
            "Passed\n"
          ],
          "name": "stdout"
        }
      ]
    },
    {
      "cell_type": "code",
      "metadata": {
        "id": "gRhgWGuAJzCr",
        "colab_type": "code",
        "colab": {}
      },
      "source": [
        "products.rename(columns = {'Product_Sub-Category':'Product_Sub_Category'}, inplace = True)\n",
        "test.rename(columns = {'Product_Sub-Category':'Product_Sub_Category'}, inplace = True)"
      ],
      "execution_count": 0,
      "outputs": []
    },
    {
      "cell_type": "code",
      "metadata": {
        "id": "sotQTn-nIuHO",
        "colab_type": "code",
        "colab": {
          "base_uri": "https://localhost:8080/",
          "height": 221
        },
        "outputId": "9320c567-373a-497e-9e8f-a2c8813d77d8"
      },
      "source": [
        "# Correctness of product details in final file\n",
        "import numpy as np\n",
        "test_ids = ['OSP0012977', 'OST0006790', 'OST0005544', 'OFU0000249', 'OSP0029919', 'OKI0000122']\n",
        "for i in test_ids:\n",
        "  print('Testing on product id '+i)\n",
        "  data1 = test.loc[test.OrderId==i]\n",
        "  prod_id = data1.Product_Id\n",
        "  data2 = products.loc[products.Product_Id==prod_id.iloc[0]]\n",
        "  assert(data1.Product_Sub_Category .iloc[0] == data2.Product_Sub_Category .iloc[0])\n",
        "  assert(data1.Product_Category.iloc[0] == data2.Product_Category.iloc[0])\n",
        "  assert(data1.Price.iloc[0] == data2.Price.iloc[0])\n",
        "  assert(data1.Profit.iloc[0] == data2.Profit.iloc[0])\n",
        "  print('Passed')"
      ],
      "execution_count": 61,
      "outputs": [
        {
          "output_type": "stream",
          "text": [
            "Testing on product id OSP0012977\n",
            "Passed\n",
            "Testing on product id OST0006790\n",
            "Passed\n",
            "Testing on product id OST0005544\n",
            "Passed\n",
            "Testing on product id OFU0000249\n",
            "Passed\n",
            "Testing on product id OSP0029919\n",
            "Passed\n",
            "Testing on product id OKI0000122\n",
            "Passed\n"
          ],
          "name": "stdout"
        }
      ]
    },
    {
      "cell_type": "code",
      "metadata": {
        "id": "6w8YkI_uLFV7",
        "colab_type": "code",
        "colab": {
          "base_uri": "https://localhost:8080/",
          "height": 34
        },
        "outputId": "66a23e0a-11c1-44be-d27b-b3a73142c2d1"
      },
      "source": [
        "# check if the order ids are unique in the final file\n",
        "# each field is a series\n",
        "print(test.OrderId.is_unique)"
      ],
      "execution_count": 62,
      "outputs": [
        {
          "output_type": "stream",
          "text": [
            "True\n"
          ],
          "name": "stdout"
        }
      ]
    },
    {
      "cell_type": "code",
      "metadata": {
        "id": "eUtT95adL65D",
        "colab_type": "code",
        "colab": {
          "base_uri": "https://localhost:8080/",
          "height": 34
        },
        "outputId": "a6c09d4d-7bf2-4e05-e607-5b86aa73e757"
      },
      "source": [
        "# check if number of product ids is less than or equal to the number of product ids in the product file\n",
        "print(test.Product_Id.nunique()==products.Product_Id.nunique())"
      ],
      "execution_count": 64,
      "outputs": [
        {
          "output_type": "stream",
          "text": [
            "True\n"
          ],
          "name": "stdout"
        }
      ]
    },
    {
      "cell_type": "code",
      "metadata": {
        "id": "NCSD9ns8M3tm",
        "colab_type": "code",
        "colab": {
          "base_uri": "https://localhost:8080/",
          "height": 34
        },
        "outputId": "f47ab953-2e49-4881-bcd6-16b0dcbf95b0"
      },
      "source": [
        "# check if number of customer ids is less than or equal to the number of customer ids in the product file\n",
        "print(test.CustomerId.nunique()<=customers.CustomerId.nunique())"
      ],
      "execution_count": 67,
      "outputs": [
        {
          "output_type": "stream",
          "text": [
            "True\n"
          ],
          "name": "stdout"
        }
      ]
    }
  ]
}